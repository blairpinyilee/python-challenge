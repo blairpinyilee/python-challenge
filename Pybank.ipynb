{
 "cells": [
  {
   "cell_type": "code",
   "execution_count": 36,
   "id": "ccaab0cc",
   "metadata": {},
   "outputs": [
    {
     "name": "stdout",
     "output_type": "stream",
     "text": [
      "blairpinyilee/Documents/Classwork/03-python/python-challenge/PyBank/Resources/budget_data.csv\n"
     ]
    },
    {
     "ename": "FileNotFoundError",
     "evalue": "[Errno 2] No such file or directory: 'blairpinyilee/Documents/Classwork/03-python/python-challenge/PyBank/Resources/budget_data.csv'",
     "output_type": "error",
     "traceback": [
      "\u001b[0;31m---------------------------------------------------------------------------\u001b[0m",
      "\u001b[0;31mFileNotFoundError\u001b[0m                         Traceback (most recent call last)",
      "Cell \u001b[0;32mIn[36], line 17\u001b[0m\n\u001b[1;32m     14\u001b[0m least\u001b[38;5;241m=\u001b[39m[\u001b[38;5;124m\"\u001b[39m\u001b[38;5;124m\"\u001b[39m, \u001b[38;5;241m9999999999900\u001b[39m]\n\u001b[1;32m     16\u001b[0m \u001b[38;5;66;03m#read the CSV and convert to a list\u001b[39;00m\n\u001b[0;32m---> 17\u001b[0m \u001b[38;5;28;01mwith\u001b[39;00m \u001b[38;5;28mopen\u001b[39m(file_to_load) \u001b[38;5;28;01mas\u001b[39;00m financial_data:\n\u001b[1;32m     18\u001b[0m     \u001b[38;5;66;03m#using CSV module to read\u001b[39;00m\n\u001b[1;32m     19\u001b[0m     reader\u001b[38;5;241m=\u001b[39mcsv\u001b[38;5;241m.\u001b[39mreader(financial_data)\n\u001b[1;32m     20\u001b[0m     \u001b[38;5;28mprint\u001b[39m(reader)\n",
      "File \u001b[0;32m~/anaconda3/lib/python3.11/site-packages/IPython/core/interactiveshell.py:284\u001b[0m, in \u001b[0;36m_modified_open\u001b[0;34m(file, *args, **kwargs)\u001b[0m\n\u001b[1;32m    277\u001b[0m \u001b[38;5;28;01mif\u001b[39;00m file \u001b[38;5;129;01min\u001b[39;00m {\u001b[38;5;241m0\u001b[39m, \u001b[38;5;241m1\u001b[39m, \u001b[38;5;241m2\u001b[39m}:\n\u001b[1;32m    278\u001b[0m     \u001b[38;5;28;01mraise\u001b[39;00m \u001b[38;5;167;01mValueError\u001b[39;00m(\n\u001b[1;32m    279\u001b[0m         \u001b[38;5;124mf\u001b[39m\u001b[38;5;124m\"\u001b[39m\u001b[38;5;124mIPython won\u001b[39m\u001b[38;5;124m'\u001b[39m\u001b[38;5;124mt let you open fd=\u001b[39m\u001b[38;5;132;01m{\u001b[39;00mfile\u001b[38;5;132;01m}\u001b[39;00m\u001b[38;5;124m by default \u001b[39m\u001b[38;5;124m\"\u001b[39m\n\u001b[1;32m    280\u001b[0m         \u001b[38;5;124m\"\u001b[39m\u001b[38;5;124mas it is likely to crash IPython. If you know what you are doing, \u001b[39m\u001b[38;5;124m\"\u001b[39m\n\u001b[1;32m    281\u001b[0m         \u001b[38;5;124m\"\u001b[39m\u001b[38;5;124myou can use builtins\u001b[39m\u001b[38;5;124m'\u001b[39m\u001b[38;5;124m open.\u001b[39m\u001b[38;5;124m\"\u001b[39m\n\u001b[1;32m    282\u001b[0m     )\n\u001b[0;32m--> 284\u001b[0m \u001b[38;5;28;01mreturn\u001b[39;00m io_open(file, \u001b[38;5;241m*\u001b[39margs, \u001b[38;5;241m*\u001b[39m\u001b[38;5;241m*\u001b[39mkwargs)\n",
      "\u001b[0;31mFileNotFoundError\u001b[0m: [Errno 2] No such file or directory: 'blairpinyilee/Documents/Classwork/03-python/python-challenge/PyBank/Resources/budget_data.csv'"
     ]
    }
   ],
   "source": [
    "#import dependencies\n",
    "import os\n",
    "import csv\n",
    "#fille to load output\n",
    "#\".\"=current\n",
    "file_to_load=os.path.join(\".\", \"PyBank\", \"Resources\", \"budget_data.csv\")\n",
    "file_to_output=os.path.join(\".\",\"PyBank\", \"budget_analysis.txt\")\n",
    "\n",
    "print(file_to_load)\n",
    "total_months=0\n",
    "total_net=0\n",
    "net_change_list=[]\n",
    "greatest=[\"\",0]\n",
    "least=[\"\", 9999999999900]\n",
    "\n",
    "#read the CSV and convert to a list\n",
    "with open(file_to_load) as financial_data:\n",
    "    #using CSV module to read\n",
    "    reader=csv.reader(financial_data)\n",
    "    print(reader)\n",
    "    #Read the header row\n",
    "    header=next(reader)\n",
    "    #read the first row\n",
    "    first_row=next(reader)\n",
    "\n",
    "  \n",
    "    #track the total\n",
    "    for row in reader:\n",
    "        #to calculate the total we can do  =total months+=1 (total_months=0+1)\n",
    "        total_months=total_months+1\n",
    "        total_net+=int(first_row[1])\n",
    "        previous_net=int(first_row[1])\n",
    "        \n",
    "        #Track the net change\n",
    "        net_change=int(row[1])-previous_net\n",
    "        previous_net=int(row[1])\n",
    "        net_change_list.append(net_change)\n",
    "        \n",
    "        #calculate the greatest increases\n",
    "        if(net_change>greatest[1]):\n",
    "              greatest[0]=row[0]\n",
    "              greatest[1]=net_change\n",
    "        #calculate the greatest decreases\n",
    "        if(net_change<least[1]):\n",
    "          least[0]=row[0]\n",
    "          least[1]=net_change\n",
    "\n",
    "net_monthly_average=sum(net_change_list)/len(net_change_list)        \n",
    "        \n",
    "        \n",
    "        \n",
    "        \n",
    "#\\n new line\n",
    "output=(\n",
    "    f\"Financial Analysis\\n\"\n",
    "    f\"----------------------------\\n\"\n",
    "    f\"total_months:{total_months}\\n\"\n",
    "    f\"total: ${total_net}\\net\"\n",
    "    f\"Average Change ${net_monthly_average:.2f}\\n\"\n",
    "    f\"Greatest Increase in Profits: {greatest[0]} (${greatest[1]})\\n\"\n",
    "    f\"Greatest Decrease in Profits: {least[0]} (${least[1]})\"\n",
    "    )\n",
    "print(output)\n",
    "with open(file_to_output,\"w\")as txt_file:\n",
    "    txt_file.write(output)\n",
    "        \n"
   ]
  },
  {
   "cell_type": "code",
   "execution_count": null,
   "id": "68840ad7",
   "metadata": {},
   "outputs": [],
   "source": []
  },
  {
   "cell_type": "code",
   "execution_count": null,
   "id": "263ffee3",
   "metadata": {},
   "outputs": [],
   "source": []
  },
  {
   "cell_type": "code",
   "execution_count": null,
   "id": "49348a50",
   "metadata": {},
   "outputs": [],
   "source": []
  }
 ],
 "metadata": {
  "kernelspec": {
   "display_name": "Python 3 (ipykernel)",
   "language": "python",
   "name": "python3"
  },
  "language_info": {
   "codemirror_mode": {
    "name": "ipython",
    "version": 3
   },
   "file_extension": ".py",
   "mimetype": "text/x-python",
   "name": "python",
   "nbconvert_exporter": "python",
   "pygments_lexer": "ipython3",
   "version": "3.11.4"
  }
 },
 "nbformat": 4,
 "nbformat_minor": 5
}
